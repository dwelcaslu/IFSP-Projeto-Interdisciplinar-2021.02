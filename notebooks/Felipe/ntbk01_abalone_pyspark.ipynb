{
 "cells": [
  {
   "cell_type": "markdown",
   "metadata": {},
   "source": [
    "## 1. Importing dependencies"
   ]
  },
  {
   "cell_type": "code",
   "execution_count": 1,
   "metadata": {},
   "outputs": [],
   "source": [
    "import os\n",
    "\n",
    "import matplotlib.pyplot as plt\n",
    "import numpy as np\n",
    "import pandas as pd\n",
    "import seaborn as sns\n",
    "\n",
    "from pyspark import SparkConf, SparkContext\n",
    "from pyspark.sql import SparkSession, SQLContext\n",
    "\n",
    "from pyspark.sql.types import *\n",
    "import pyspark.sql.functions as F\n",
    "from pyspark.sql.functions import udf, col\n",
    "\n",
    "from pyspark.ml.regression import LinearRegression\n",
    "from pyspark.mllib.evaluation import RegressionMetrics\n",
    "\n",
    "from pyspark.ml.tuning import ParamGridBuilder, CrossValidator, CrossValidatorModel\n",
    "from pyspark.ml.feature import VectorAssembler, StandardScaler\n",
    "from pyspark.ml.evaluation import RegressionEvaluator"
   ]
  },
  {
   "cell_type": "code",
   "execution_count": 2,
   "metadata": {},
   "outputs": [],
   "source": [
    "# Visualization\n",
    "from IPython.core.interactiveshell import InteractiveShell\n",
    "InteractiveShell.ast_node_interactivity = \"all\"\n",
    "\n",
    "pd.set_option('display.max_columns', 200)\n",
    "pd.set_option('display.max_colwidth', 400)\n",
    "\n",
    "from matplotlib import rcParams\n",
    "sns.set(context='notebook', style='whitegrid', rc={'figure.figsize': (18,4)})\n",
    "rcParams['figure.figsize'] = 18,4\n",
    "\n",
    "%matplotlib inline\n",
    "%config InlineBackend.figure_format = 'retina'"
   ]
  },
  {
   "cell_type": "code",
   "execution_count": 3,
   "metadata": {},
   "outputs": [],
   "source": [
    "# setting random seed for notebook reproducability\n",
    "rnd_seed=23\n",
    "np.random.seed=rnd_seed\n",
    "np.random.set_state=rnd_seed"
   ]
  },
  {
   "cell_type": "code",
   "execution_count": null,
   "metadata": {},
   "outputs": [],
   "source": []
  },
  {
   "cell_type": "markdown",
   "metadata": {},
   "source": [
    "## 2. Creating the Spark Session"
   ]
  },
  {
   "cell_type": "code",
   "execution_count": 4,
   "metadata": {},
   "outputs": [],
   "source": [
    "spark = SparkSession.builder.master(\"local\").appName(\"Abalone-Spark-Test\").getOrCreate()"
   ]
  },
  {
   "cell_type": "code",
   "execution_count": 5,
   "metadata": {},
   "outputs": [
    {
     "data": {
      "text/html": [
       "\n",
       "            <div>\n",
       "                <p><b>SparkSession - in-memory</b></p>\n",
       "                \n",
       "        <div>\n",
       "            <p><b>SparkContext</b></p>\n",
       "\n",
       "            <p><a href=\"http://ip-172-16-16-247.us-east-2.compute.internal:4040\">Spark UI</a></p>\n",
       "\n",
       "            <dl>\n",
       "              <dt>Version</dt>\n",
       "                <dd><code>v2.4.0</code></dd>\n",
       "              <dt>Master</dt>\n",
       "                <dd><code>local</code></dd>\n",
       "              <dt>AppName</dt>\n",
       "                <dd><code>Abalone-Spark-Test</code></dd>\n",
       "            </dl>\n",
       "        </div>\n",
       "        \n",
       "            </div>\n",
       "        "
      ],
      "text/plain": [
       "<pyspark.sql.session.SparkSession at 0x7fdd33849e80>"
      ]
     },
     "execution_count": 5,
     "metadata": {},
     "output_type": "execute_result"
    }
   ],
   "source": [
    "spark"
   ]
  },
  {
   "cell_type": "code",
   "execution_count": 6,
   "metadata": {},
   "outputs": [
    {
     "data": {
      "text/html": [
       "\n",
       "        <div>\n",
       "            <p><b>SparkContext</b></p>\n",
       "\n",
       "            <p><a href=\"http://ip-172-16-16-247.us-east-2.compute.internal:4040\">Spark UI</a></p>\n",
       "\n",
       "            <dl>\n",
       "              <dt>Version</dt>\n",
       "                <dd><code>v2.4.0</code></dd>\n",
       "              <dt>Master</dt>\n",
       "                <dd><code>local</code></dd>\n",
       "              <dt>AppName</dt>\n",
       "                <dd><code>Abalone-Spark-Test</code></dd>\n",
       "            </dl>\n",
       "        </div>\n",
       "        "
      ],
      "text/plain": [
       "<SparkContext master=local appName=Abalone-Spark-Test>"
      ]
     },
     "execution_count": 6,
     "metadata": {},
     "output_type": "execute_result"
    }
   ],
   "source": [
    "sc = spark.sparkContext\n",
    "sc"
   ]
  },
  {
   "cell_type": "code",
   "execution_count": 7,
   "metadata": {},
   "outputs": [
    {
     "data": {
      "text/plain": [
       "<pyspark.sql.context.SQLContext at 0x7fdd337e5390>"
      ]
     },
     "execution_count": 7,
     "metadata": {},
     "output_type": "execute_result"
    }
   ],
   "source": [
    "sqlContext = SQLContext(spark.sparkContext)\n",
    "sqlContext"
   ]
  },
  {
   "cell_type": "code",
   "execution_count": null,
   "metadata": {},
   "outputs": [],
   "source": []
  },
  {
   "cell_type": "markdown",
   "metadata": {},
   "source": [
    "## 3. Load The Data From a File Into a Dataframe"
   ]
  },
  {
   "cell_type": "code",
   "execution_count": 8,
   "metadata": {},
   "outputs": [],
   "source": [
    "FILENAME = '../../data/raw/abalone.csv'"
   ]
  },
  {
   "cell_type": "markdown",
   "metadata": {},
   "source": [
    "Specifying the schema when loading data into a DataFrame will give better performance than schema inference."
   ]
  },
  {
   "cell_type": "code",
   "execution_count": 9,
   "metadata": {},
   "outputs": [],
   "source": [
    "# define the schema, corresponding to a line in the csv data file.\n",
    "schema = StructType([\n",
    "    StructField(\"sex\", StringType(), nullable=True),\n",
    "    StructField(\"length\", FloatType(), nullable=True),\n",
    "    StructField(\"diameter\", FloatType(), nullable=True),\n",
    "    StructField(\"height\", FloatType(), nullable=True),\n",
    "    StructField(\"whole_weight\", FloatType(), nullable=True),\n",
    "    StructField(\"shucked_weight\", FloatType(), nullable=True),\n",
    "    StructField(\"viscera_weight\", FloatType(), nullable=True),\n",
    "    StructField(\"shell_weight\", FloatType(), nullable=True),\n",
    "    StructField(\"rings\", IntegerType(), nullable=True)]\n",
    ")"
   ]
  },
  {
   "cell_type": "code",
   "execution_count": 10,
   "metadata": {},
   "outputs": [],
   "source": [
    "# Load housing data\n",
    "abalone_df = spark.read.csv(path=FILENAME, schema=schema, header=True).cache()"
   ]
  },
  {
   "cell_type": "code",
   "execution_count": 11,
   "metadata": {},
   "outputs": [
    {
     "name": "stdout",
     "output_type": "stream",
     "text": [
      "+---+------+--------+------+------------+--------------+--------------+------------+-----+\n",
      "|sex|length|diameter|height|whole_weight|shucked_weight|viscera_weight|shell_weight|rings|\n",
      "+---+------+--------+------+------------+--------------+--------------+------------+-----+\n",
      "|  M| 0.455|   0.365| 0.095|       0.514|        0.2245|         0.101|        0.15|   15|\n",
      "|  M|  0.35|   0.265|  0.09|      0.2255|        0.0995|        0.0485|        0.07|    7|\n",
      "|  F|  0.53|    0.42| 0.135|       0.677|        0.2565|        0.1415|        0.21|    9|\n",
      "|  M|  0.44|   0.365| 0.125|       0.516|        0.2155|         0.114|       0.155|   10|\n",
      "|  I|  0.33|   0.255|  0.08|       0.205|        0.0895|        0.0395|       0.055|    7|\n",
      "+---+------+--------+------+------------+--------------+--------------+------------+-----+\n",
      "only showing top 5 rows\n",
      "\n"
     ]
    }
   ],
   "source": [
    "# Show first five rows\n",
    "abalone_df.show(5)"
   ]
  },
  {
   "cell_type": "code",
   "execution_count": 12,
   "metadata": {},
   "outputs": [
    {
     "data": {
      "text/plain": [
       "['sex',\n",
       " 'length',\n",
       " 'diameter',\n",
       " 'height',\n",
       " 'whole_weight',\n",
       " 'shucked_weight',\n",
       " 'viscera_weight',\n",
       " 'shell_weight',\n",
       " 'rings']"
      ]
     },
     "execution_count": 12,
     "metadata": {},
     "output_type": "execute_result"
    }
   ],
   "source": [
    "# show the dataframe columns\n",
    "abalone_df.columns"
   ]
  },
  {
   "cell_type": "code",
   "execution_count": 13,
   "metadata": {},
   "outputs": [
    {
     "name": "stdout",
     "output_type": "stream",
     "text": [
      "root\n",
      " |-- sex: string (nullable = true)\n",
      " |-- length: float (nullable = true)\n",
      " |-- diameter: float (nullable = true)\n",
      " |-- height: float (nullable = true)\n",
      " |-- whole_weight: float (nullable = true)\n",
      " |-- shucked_weight: float (nullable = true)\n",
      " |-- viscera_weight: float (nullable = true)\n",
      " |-- shell_weight: float (nullable = true)\n",
      " |-- rings: integer (nullable = true)\n",
      "\n"
     ]
    }
   ],
   "source": [
    "# show the schema of the dataframe\n",
    "abalone_df.printSchema()"
   ]
  },
  {
   "cell_type": "markdown",
   "metadata": {},
   "source": [
    "## 4. Data Exploration"
   ]
  },
  {
   "cell_type": "code",
   "execution_count": 14,
   "metadata": {},
   "outputs": [
    {
     "name": "stdout",
     "output_type": "stream",
     "text": [
      "+-------+------+--------+------+------------+--------------+--------------+------------+------+\n",
      "|summary|length|diameter|height|whole_weight|shucked_weight|viscera_weight|shell_weight| rings|\n",
      "+-------+------+--------+------+------------+--------------+--------------+------------+------+\n",
      "|  count|4177.0|  4177.0|4177.0|      4177.0|        4177.0|        4177.0|      4177.0|4177.0|\n",
      "|   mean| 0.524|  0.4079|0.1395|      0.8287|        0.3594|        0.1806|      0.2388|9.9337|\n",
      "| stddev|0.1201|  0.0992|0.0418|      0.4904|         0.222|        0.1096|      0.1392|3.2242|\n",
      "|    min| 0.075|   0.055|   0.0|       0.002|         0.001|        5.0E-4|      0.0015|   1.0|\n",
      "|    max| 0.815|    0.65|  1.13|      2.8255|         1.488|          0.76|       1.005|  29.0|\n",
      "+-------+------+--------+------+------------+--------------+--------------+------------+------+\n",
      "\n"
     ]
    }
   ],
   "source": [
    "(abalone_df.describe().select(\n",
    "                    \"summary\",\n",
    "                    F.round(\"length\", 4).alias(\"length\"),\n",
    "                    F.round(\"diameter\", 4).alias(\"diameter\"),\n",
    "                    F.round(\"height\", 4).alias(\"height\"),\n",
    "                    F.round(\"whole_weight\", 4).alias(\"whole_weight\"),\n",
    "                    F.round(\"shucked_weight\", 4).alias(\"shucked_weight\"),\n",
    "                    F.round(\"viscera_weight\", 4).alias(\"viscera_weight\"),\n",
    "                    F.round(\"shell_weight\", 4).alias(\"shell_weight\"),\n",
    "                    F.round(\"rings\", 4).alias(\"rings\"),\n",
    "                    ).show())"
   ]
  },
  {
   "cell_type": "code",
   "execution_count": 15,
   "metadata": {},
   "outputs": [
    {
     "data": {
      "text/plain": [
       "Text(0.5, 1.0, 'sex')"
      ]
     },
     "execution_count": 15,
     "metadata": {},
     "output_type": "execute_result"
    },
    {
     "data": {
      "text/plain": [
       "<AxesSubplot:title={'center':'sex'}>"
      ]
     },
     "execution_count": 15,
     "metadata": {},
     "output_type": "execute_result"
    },
    {
     "data": {
      "image/png": "[encoded data removed]",
      "text/plain": [
       "<Figure size 432x288 with 1 Axes>"
      ]
     },
     "metadata": {
      "image/png": {
       "height": 266,
       "width": 386
      },
      "needs_background": "light"
     },
     "output_type": "display_data"
    },
    {
     "data": {
      "text/plain": [
       "Text(0.5, 1.0, 'length')"
      ]
     },
     "execution_count": 15,
     "metadata": {},
     "output_type": "execute_result"
    },
    {
     "data": {
      "text/plain": [
       "<AxesSubplot:title={'center':'length'}>"
      ]
     },
     "execution_count": 15,
     "metadata": {},
     "output_type": "execute_result"
    },
    {
     "data": {
      "image/png": "[encoded data removed]",
      "text/plain": [
       "<Figure size 432x288 with 1 Axes>"
      ]
     },
     "metadata": {
      "image/png": {
       "height": 266,
       "width": 386
      },
      "needs_background": "light"
     },
     "output_type": "display_data"
    },
    {
     "data": {
      "text/plain": [
       "Text(0.5, 1.0, 'diameter')"
      ]
     },
     "execution_count": 15,
     "metadata": {},
     "output_type": "execute_result"
    },
    {
     "data": {
      "text/plain": [
       "<AxesSubplot:title={'center':'diameter'}>"
      ]
     },
     "execution_count": 15,
     "metadata": {},
     "output_type": "execute_result"
    },
    {
     "data": {
      "image/png": "[encoded data removed]",
      "text/plain": [
       "<Figure size 432x288 with 1 Axes>"
      ]
     },
     "metadata": {
      "image/png": {
       "height": 266,
       "width": 386
      },
      "needs_background": "light"
     },
     "output_type": "display_data"
    },
    {
     "data": {
      "text/plain": [
       "Text(0.5, 1.0, 'height')"
      ]
     },
     "execution_count": 15,
     "metadata": {},
     "output_type": "execute_result"
    },
    {
     "data": {
      "text/plain": [
       "<AxesSubplot:title={'center':'height'}>"
      ]
     },
     "execution_count": 15,
     "metadata": {},
     "output_type": "execute_result"
    },
    {
     "data": {
      "image/png": "[encoded data removed]",
      "text/plain": [
       "<Figure size 432x288 with 1 Axes>"
      ]
     },
     "metadata": {
      "image/png": {
       "height": 266,
       "width": 386
      },
      "needs_background": "light"
     },
     "output_type": "display_data"
    },
    {
     "data": {
      "text/plain": [
       "Text(0.5, 1.0, 'whole_weight')"
      ]
     },
     "execution_count": 15,
     "metadata": {},
     "output_type": "execute_result"
    },
    {
     "data": {
      "text/plain": [
       "<AxesSubplot:title={'center':'whole_weight'}>"
      ]
     },
     "execution_count": 15,
     "metadata": {},
     "output_type": "execute_result"
    },
    {
     "data": {
      "image/png": "[encoded data removed]",
      "text/plain": [
       "<Figure size 432x288 with 1 Axes>"
      ]
     },
     "metadata": {
      "image/png": {
       "height": 266,
       "width": 379
      },
      "needs_background": "light"
     },
     "output_type": "display_data"
    },
    {
     "data": {
      "text/plain": [
       "Text(0.5, 1.0, 'shucked_weight')"
      ]
     },
     "execution_count": 15,
     "metadata": {},
     "output_type": "execute_result"
    },
    {
     "data": {
      "text/plain": [
       "<AxesSubplot:title={'center':'shucked_weight'}>"
      ]
     },
     "execution_count": 15,
     "metadata": {},
     "output_type": "execute_result"
    },
    {
     "data": {
      "image/png": "[encoded data removed]",
      "text/plain": [
       "<Figure size 432x288 with 1 Axes>"
      ]
     },
     "metadata": {
      "image/png": {
       "height": 266,
       "width": 386
      },
      "needs_background": "light"
     },
     "output_type": "display_data"
    },
    {
     "data": {
      "text/plain": [
       "Text(0.5, 1.0, 'viscera_weight')"
      ]
     },
     "execution_count": 15,
     "metadata": {},
     "output_type": "execute_result"
    },
    {
     "data": {
      "text/plain": [
       "<AxesSubplot:title={'center':'viscera_weight'}>"
      ]
     },
     "execution_count": 15,
     "metadata": {},
     "output_type": "execute_result"
    },
    {
     "data": {
      "image/png": "[encoded data removed]",
      "text/plain": [
       "<Figure size 432x288 with 1 Axes>"
      ]
     },
     "metadata": {
      "image/png": {
       "height": 266,
       "width": 386
      },
      "needs_background": "light"
     },
     "output_type": "display_data"
    },
    {
     "data": {
      "text/plain": [
       "Text(0.5, 1.0, 'shell_weight')"
      ]
     },
     "execution_count": 15,
     "metadata": {},
     "output_type": "execute_result"
    },
    {
     "data": {
      "text/plain": [
       "<AxesSubplot:title={'center':'shell_weight'}>"
      ]
     },
     "execution_count": 15,
     "metadata": {},
     "output_type": "execute_result"
    },
    {
     "data": {
      "image/png": "[encoded data removed]",
      "text/plain": [
       "<Figure size 432x288 with 1 Axes>"
      ]
     },
     "metadata": {
      "image/png": {
       "height": 266,
       "width": 386
      },
      "needs_background": "light"
     },
     "output_type": "display_data"
    },
    {
     "data": {
      "text/plain": [
       "Text(0.5, 1.0, 'rings')"
      ]
     },
     "execution_count": 15,
     "metadata": {},
     "output_type": "execute_result"
    },
    {
     "data": {
      "text/plain": [
       "<AxesSubplot:title={'center':'rings'}>"
      ]
     },
     "execution_count": 15,
     "metadata": {},
     "output_type": "execute_result"
    },
    {
     "data": {
      "image/png": "[encoded data removed]",
      "text/plain": [
       "<Figure size 432x288 with 1 Axes>"
      ]
     },
     "metadata": {
      "image/png": {
       "height": 266,
       "width": 389
      },
      "needs_background": "light"
     },
     "output_type": "display_data"
    }
   ],
   "source": [
    "df_pandas =  abalone_df.toPandas()\n",
    "for col in abalone_df.columns:\n",
    "    plt.title(col)\n",
    "    df_pandas[col].hist(figsize=(6, 4))\n",
    "    plt.show()"
   ]
  },
  {
   "cell_type": "code",
   "execution_count": null,
   "metadata": {},
   "outputs": [],
   "source": []
  },
  {
   "cell_type": "markdown",
   "metadata": {},
   "source": [
    "## 5. Data Preprocessing\n"
   ]
  },
  {
   "cell_type": "code",
   "execution_count": null,
   "metadata": {},
   "outputs": [],
   "source": []
  },
  {
   "cell_type": "markdown",
   "metadata": {},
   "source": [
    "## 6. Feature Engineering\n"
   ]
  },
  {
   "cell_type": "code",
   "execution_count": 16,
   "metadata": {},
   "outputs": [],
   "source": [
    "featureCols = ['length', 'diameter', 'height','whole_weight',\n",
    "               'shucked_weight','viscera_weight','shell_weight']\n",
    "# put features into a feature vector column\n",
    "assembler = VectorAssembler(inputCols=featureCols, outputCol=\"features\")\n",
    "assembled_df = assembler.transform(abalone_df)"
   ]
  },
  {
   "cell_type": "code",
   "execution_count": 17,
   "metadata": {},
   "outputs": [
    {
     "name": "stdout",
     "output_type": "stream",
     "text": [
      "+---+------+--------+------+------------+--------------+--------------+------------+-----+----------------------------------------------------------------------------------------------------------------------------------------------+\n",
      "|sex|length|diameter|height|whole_weight|shucked_weight|viscera_weight|shell_weight|rings|features                                                                                                                                      |\n",
      "+---+------+--------+------+------------+--------------+--------------+------------+-----+----------------------------------------------------------------------------------------------------------------------------------------------+\n",
      "|M  |0.455 |0.365   |0.095 |0.514       |0.2245        |0.101         |0.15        |15   |[0.45500001311302185,0.36500000953674316,0.0949999988079071,0.5139999985694885,0.22450000047683716,0.10100000351667404,0.15000000596046448]   |\n",
      "|M  |0.35  |0.265   |0.09  |0.2255      |0.0995        |0.0485        |0.07        |7    |[0.3499999940395355,0.26499998569488525,0.09000000357627869,0.22550000250339508,0.09950000047683716,0.048500001430511475,0.07000000029802322] |\n",
      "|F  |0.53  |0.42    |0.135 |0.677       |0.2565        |0.1415        |0.21        |9    |[0.5299999713897705,0.41999998688697815,0.13500000536441803,0.6769999861717224,0.2565000057220459,0.14149999618530273,0.20999999344348907]    |\n",
      "|M  |0.44  |0.365   |0.125 |0.516       |0.2155        |0.114         |0.155       |10   |[0.4399999976158142,0.36500000953674316,0.125,0.515999972820282,0.21549999713897705,0.11400000005960464,0.1550000011920929]                   |\n",
      "|I  |0.33  |0.255   |0.08  |0.205       |0.0895        |0.0395        |0.055       |7    |[0.33000001311302185,0.2549999952316284,0.07999999821186066,0.20499999821186066,0.08950000256299973,0.039500001817941666,0.054999999701976776]|\n",
      "|I  |0.425 |0.3     |0.095 |0.3515      |0.141         |0.0775        |0.12        |8    |[0.42500001192092896,0.30000001192092896,0.0949999988079071,0.351500004529953,0.14100000262260437,0.07750000059604645,0.11999999731779099]    |\n",
      "|F  |0.53  |0.415   |0.15  |0.7775      |0.237         |0.1415        |0.33        |20   |[0.5299999713897705,0.41499999165534973,0.15000000596046448,0.7774999737739563,0.2370000034570694,0.14149999618530273,0.33000001311302185]    |\n",
      "|F  |0.545 |0.425   |0.125 |0.768       |0.294         |0.1495        |0.26        |16   |[0.5450000166893005,0.42500001192092896,0.125,0.7680000066757202,0.2939999997615814,0.14949999749660492,0.25999999046325684]                  |\n",
      "|M  |0.475 |0.37    |0.125 |0.5095      |0.2165        |0.1125        |0.165       |9    |[0.4749999940395355,0.3700000047683716,0.125,0.5095000267028809,0.21649999916553497,0.11249999701976776,0.16500000655651093]                  |\n",
      "|F  |0.55  |0.44    |0.15  |0.8945      |0.3145        |0.151         |0.32        |19   |[0.550000011920929,0.4399999976158142,0.15000000596046448,0.8945000171661377,0.31450000405311584,0.1509999930858612,0.3199999928474426]       |\n",
      "+---+------+--------+------+------------+--------------+--------------+------------+-----+----------------------------------------------------------------------------------------------------------------------------------------------+\n",
      "only showing top 10 rows\n",
      "\n"
     ]
    }
   ],
   "source": [
    "assembled_df.show(10, truncate=False)"
   ]
  },
  {
   "cell_type": "code",
   "execution_count": 18,
   "metadata": {},
   "outputs": [],
   "source": [
    "# Initialize the `standardScaler`\n",
    "standardScaler = StandardScaler(inputCol=\"features\", outputCol=\"features_scaled\")"
   ]
  },
  {
   "cell_type": "code",
   "execution_count": 19,
   "metadata": {},
   "outputs": [],
   "source": [
    "# Fit the DataFrame to the scaler\n",
    "prep_df = standardScaler.fit(assembled_df).transform(assembled_df)"
   ]
  },
  {
   "cell_type": "code",
   "execution_count": 20,
   "metadata": {},
   "outputs": [
    {
     "name": "stdout",
     "output_type": "stream",
     "text": [
      "+----------------------------------------------------------------------------------------------------------------------------------------------+-----------------------------------------------------------------------------------------------------------------------------------------+\n",
      "|features                                                                                                                                      |features_scaled                                                                                                                          |\n",
      "+----------------------------------------------------------------------------------------------------------------------------------------------+-----------------------------------------------------------------------------------------------------------------------------------------+\n",
      "|[0.45500001311302185,0.36500000953674316,0.0949999988079071,0.5139999985694885,0.22450000047683716,0.10100000351667404,0.15000000596046448]   |[3.7887332711818247,3.6779575173777133,2.2712570856645273,1.0481474452807245,1.0114300685983935,0.9214130762786045,1.0775655840557854]   |\n",
      "|[0.3499999940395355,0.26499998569488525,0.09000000357627869,0.22550000250339508,0.09950000047683716,0.048500001430511475,0.07000000029802322] |[2.914410074976496,2.670297709659031,2.15171735155266,0.4598390120477345,0.44827301600923997,0.44246073229320915,0.5028639213849467]     |\n",
      "|[0.5299999713897705,0.41999998688697815,0.13500000536441803,0.6769999861717224,0.2565000057220459,0.14149999618530273,0.20999999344348907]    |[4.413249379030336,4.232170051255845,3.22757602732899,1.3805365913148835,1.1555982976922272,1.2908905172165288,1.508591710631581]        |\n",
      "|[0.4399999976158142,0.36500000953674316,0.125,0.515999972820282,0.21549999713897705,0.11400000005960464,0.1550000011920929]                   |[3.6638298510836877,3.6779575173777133,2.988496202848747,1.0522257875130796,0.9708827457740588,1.0400107633000253,1.113484401175472]     |\n",
      "|[0.33000001311302185,0.2549999952316284,0.07999999821186066,0.20499999821186066,0.08950000256299973,0.039500001817941666,0.054999999701976776]|[2.7478725123930374,2.5695318490095436,1.9126375270724172,0.41803545721073804,0.40322046120080496,0.36035462297851834,0.3951073629793682]|\n",
      "|[0.42500001192092896,0.30000001192092896,0.0949999988079071,0.351500004529953,0.14100000262260437,0.07750000059604645,0.11999999731779099]    |[3.538926679146094,3.0229788225441414,2.2712570856645273,0.7167778848046543,0.6352411671360705,0.7070248660833747,0.862052413721369]     |\n",
      "|[0.5299999713897705,0.41499999165534973,0.15000000596046448,0.7774999737739563,0.2370000034570694,0.14149999618530273,0.33000001311302185]    |[4.413249379030336,4.1817871209311015,3.5861955859211,1.5854759017218756,1.0677457872840193,1.2908905172165288,2.370644284922728]        |\n",
      "|[0.5450000166893005,0.42500001192092896,0.125,0.7680000066757202,0.2939999997615814,0.14949999749660492,0.25999999046325684]                  |[4.538153047289017,4.282553281886542,2.988496202848747,1.5661035937997367,1.3245453866155525,1.3638737406009012,1.867780202968003]       |\n",
      "|[0.4749999940395355,0.3700000047683716,0.125,0.5095000267028809,0.21649999916553497,0.11249999701976776,0.16500000655651093]                  |[3.955270833765283,3.7283404477024567,2.988496202848747,1.0389711144851081,0.9753880113249351,1.0263263834263634,1.185322142461364]      |\n",
      "|[0.550000011920929,0.4399999976158142,0.15000000596046448,0.8945000171661377,0.31450000405311584,0.1509999930858612,0.3199999928474426]       |[4.579787437934881,4.433702072860772,3.5861955859211,1.8240620825011542,1.4169031625746367,1.3775580525036508,2.298806436590317]         |\n",
      "+----------------------------------------------------------------------------------------------------------------------------------------------+-----------------------------------------------------------------------------------------------------------------------------------------+\n",
      "only showing top 10 rows\n",
      "\n"
     ]
    }
   ],
   "source": [
    "# Inspect the result\n",
    "prep_df.select(\"features\", \"features_scaled\").show(10, truncate=False)"
   ]
  },
  {
   "cell_type": "code",
   "execution_count": null,
   "metadata": {},
   "outputs": [],
   "source": []
  },
  {
   "cell_type": "code",
   "execution_count": null,
   "metadata": {},
   "outputs": [],
   "source": []
  },
  {
   "cell_type": "markdown",
   "metadata": {},
   "source": [
    "### 7. Building A Machine Learning Model With Spark ML\n",
    "\n"
   ]
  },
  {
   "cell_type": "code",
   "execution_count": 21,
   "metadata": {},
   "outputs": [],
   "source": [
    "# Split the data into train and test sets\n",
    "train_data, test_data = prep_df.randomSplit([.8,.2], seed=rnd_seed)"
   ]
  },
  {
   "cell_type": "code",
   "execution_count": 22,
   "metadata": {},
   "outputs": [],
   "source": [
    "# Initialize `lr`\n",
    "lr = (LinearRegression(featuresCol='features_scaled', labelCol=\"rings\", predictionCol='predrings',\n",
    "                       maxIter=10, regParam=0.3, elasticNetParam=0.8, standardization=False))"
   ]
  },
  {
   "cell_type": "code",
   "execution_count": 23,
   "metadata": {},
   "outputs": [],
   "source": [
    "# Fit the data to the model\n",
    "linearModel = lr.fit(train_data)"
   ]
  },
  {
   "cell_type": "code",
   "execution_count": null,
   "metadata": {},
   "outputs": [],
   "source": []
  },
  {
   "cell_type": "markdown",
   "metadata": {},
   "source": [
    "## 8. Evaluating the Model\n",
    "\n"
   ]
  },
  {
   "cell_type": "code",
   "execution_count": 24,
   "metadata": {},
   "outputs": [
    {
     "data": {
      "text/plain": [
       "DenseVector([0.0, 0.078, 0.8356, 0.0, -0.104, 0.0, 1.1197])"
      ]
     },
     "execution_count": 24,
     "metadata": {},
     "output_type": "execute_result"
    }
   ],
   "source": [
    "# Coefficients for the model\n",
    "linearModel.coefficients"
   ]
  },
  {
   "cell_type": "code",
   "execution_count": 25,
   "metadata": {},
   "outputs": [
    {
     "data": {
      "text/plain": [
       "['length',\n",
       " 'diameter',\n",
       " 'height',\n",
       " 'whole_weight',\n",
       " 'shucked_weight',\n",
       " 'viscera_weight',\n",
       " 'shell_weight']"
      ]
     },
     "execution_count": 25,
     "metadata": {},
     "output_type": "execute_result"
    }
   ],
   "source": [
    "featureCols"
   ]
  },
  {
   "cell_type": "code",
   "execution_count": 26,
   "metadata": {},
   "outputs": [
    {
     "data": {
      "text/plain": [
       "5.084211235021854"
      ]
     },
     "execution_count": 26,
     "metadata": {},
     "output_type": "execute_result"
    }
   ],
   "source": [
    "# Intercept for the model\n",
    "linearModel.intercept"
   ]
  },
  {
   "cell_type": "code",
   "execution_count": 27,
   "metadata": {},
   "outputs": [],
   "source": [
    "coeff_df = pd.DataFrame({\"Feature\": [\"Intercept\"] + featureCols, \"Co-efficients\": np.insert(linearModel.coefficients.toArray(), 0, linearModel.intercept)})\n",
    "coeff_df = coeff_df[[\"Feature\", \"Co-efficients\"]]"
   ]
  },
  {
   "cell_type": "code",
   "execution_count": 28,
   "metadata": {},
   "outputs": [
    {
     "data": {
      "text/html": [
       "<div>\n",
       "<style scoped>\n",
       "    .dataframe tbody tr th:only-of-type {\n",
       "        vertical-align: middle;\n",
       "    }\n",
       "\n",
       "    .dataframe tbody tr th {\n",
       "        vertical-align: top;\n",
       "    }\n",
       "\n",
       "    .dataframe thead th {\n",
       "        text-align: right;\n",
       "    }\n",
       "</style>\n",
       "<table border=\"1\" class=\"dataframe\">\n",
       "  <thead>\n",
       "    <tr style=\"text-align: right;\">\n",
       "      <th></th>\n",
       "      <th>Feature</th>\n",
       "      <th>Co-efficients</th>\n",
       "    </tr>\n",
       "  </thead>\n",
       "  <tbody>\n",
       "    <tr>\n",
       "      <th>0</th>\n",
       "      <td>Intercept</td>\n",
       "      <td>5.084211</td>\n",
       "    </tr>\n",
       "    <tr>\n",
       "      <th>1</th>\n",
       "      <td>length</td>\n",
       "      <td>0.000000</td>\n",
       "    </tr>\n",
       "    <tr>\n",
       "      <th>2</th>\n",
       "      <td>diameter</td>\n",
       "      <td>0.078039</td>\n",
       "    </tr>\n",
       "    <tr>\n",
       "      <th>3</th>\n",
       "      <td>height</td>\n",
       "      <td>0.835615</td>\n",
       "    </tr>\n",
       "    <tr>\n",
       "      <th>4</th>\n",
       "      <td>whole_weight</td>\n",
       "      <td>0.000000</td>\n",
       "    </tr>\n",
       "    <tr>\n",
       "      <th>5</th>\n",
       "      <td>shucked_weight</td>\n",
       "      <td>-0.104036</td>\n",
       "    </tr>\n",
       "    <tr>\n",
       "      <th>6</th>\n",
       "      <td>viscera_weight</td>\n",
       "      <td>0.000000</td>\n",
       "    </tr>\n",
       "    <tr>\n",
       "      <th>7</th>\n",
       "      <td>shell_weight</td>\n",
       "      <td>1.119691</td>\n",
       "    </tr>\n",
       "  </tbody>\n",
       "</table>\n",
       "</div>"
      ],
      "text/plain": [
       "          Feature  Co-efficients\n",
       "0       Intercept       5.084211\n",
       "1          length       0.000000\n",
       "2        diameter       0.078039\n",
       "3          height       0.835615\n",
       "4    whole_weight       0.000000\n",
       "5  shucked_weight      -0.104036\n",
       "6  viscera_weight       0.000000\n",
       "7    shell_weight       1.119691"
      ]
     },
     "execution_count": 28,
     "metadata": {},
     "output_type": "execute_result"
    }
   ],
   "source": [
    "coeff_df"
   ]
  },
  {
   "cell_type": "code",
   "execution_count": 29,
   "metadata": {},
   "outputs": [],
   "source": [
    "# Generate predictions\n",
    "predictions = linearModel.transform(test_data)"
   ]
  },
  {
   "cell_type": "code",
   "execution_count": 30,
   "metadata": {},
   "outputs": [],
   "source": [
    "# Extract the predictions and the \"known\" correct labels\n",
    "predandlabels = predictions.select(\"predrings\", \"rings\")"
   ]
  },
  {
   "cell_type": "code",
   "execution_count": 31,
   "metadata": {},
   "outputs": [
    {
     "name": "stdout",
     "output_type": "stream",
     "text": [
      "+-----------------+-----+\n",
      "|        predrings|rings|\n",
      "+-----------------+-----+\n",
      "|7.665683469721766|   10|\n",
      "|7.538301916407348|    7|\n",
      "|7.127155265699342|   10|\n",
      "| 7.89814505123021|    8|\n",
      "|7.931010305130178|    7|\n",
      "|8.801059328560532|    7|\n",
      "|7.909133065023619|    6|\n",
      "|8.143703808822831|   10|\n",
      "|8.138808469801239|   12|\n",
      "|8.335259126453778|   16|\n",
      "| 8.27191841248612|    8|\n",
      "| 8.35417708347964|   12|\n",
      "|8.704584948681825|    8|\n",
      "|8.435583761487715|   11|\n",
      "|8.806159518778927|    7|\n",
      "|8.495427691295493|   13|\n",
      "|8.712457464876632|   11|\n",
      "|8.922651897950075|   10|\n",
      "| 9.34827132849762|    9|\n",
      "|8.411504270734717|    6|\n",
      "+-----------------+-----+\n",
      "only showing top 20 rows\n",
      "\n"
     ]
    }
   ],
   "source": [
    "predandlabels.show()"
   ]
  },
  {
   "cell_type": "code",
   "execution_count": null,
   "metadata": {},
   "outputs": [],
   "source": []
  },
  {
   "cell_type": "code",
   "execution_count": 32,
   "metadata": {},
   "outputs": [
    {
     "name": "stdout",
     "output_type": "stream",
     "text": [
      "RMSE: 2.5306892133884586\n"
     ]
    }
   ],
   "source": [
    "# Get the RMSE\n",
    "print(\"RMSE: {0}\".format(linearModel.summary.rootMeanSquaredError))"
   ]
  },
  {
   "cell_type": "code",
   "execution_count": 33,
   "metadata": {},
   "outputs": [
    {
     "name": "stdout",
     "output_type": "stream",
     "text": [
      "MAE: 1.826166767598649\n"
     ]
    }
   ],
   "source": [
    "print(\"MAE: {0}\".format(linearModel.summary.meanAbsoluteError))"
   ]
  },
  {
   "cell_type": "code",
   "execution_count": 34,
   "metadata": {},
   "outputs": [
    {
     "name": "stdout",
     "output_type": "stream",
     "text": [
      "R2: 0.40422983459696027\n"
     ]
    }
   ],
   "source": [
    "# Get the R2\n",
    "print(\"R2: {0}\".format(linearModel.summary.r2))"
   ]
  },
  {
   "cell_type": "code",
   "execution_count": null,
   "metadata": {},
   "outputs": [],
   "source": []
  },
  {
   "cell_type": "code",
   "execution_count": 35,
   "metadata": {},
   "outputs": [],
   "source": [
    "spark.stop()"
   ]
  },
  {
   "cell_type": "code",
   "execution_count": null,
   "metadata": {},
   "outputs": [],
   "source": []
  }
 ],
 "metadata": {
  "kernelspec": {
   "display_name": "conda_amazonei_mxnet_p36",
   "language": "python",
   "name": "conda_amazonei_mxnet_p36"
  },
  "language_info": {
   "codemirror_mode": {
    "name": "ipython",
    "version": 3
   },
   "file_extension": ".py",
   "mimetype": "text/x-python",
   "name": "python",
   "nbconvert_exporter": "python",
   "pygments_lexer": "ipython3",
   "version": "3.6.13"
  }
 },
 "nbformat": 4,
 "nbformat_minor": 4
}
